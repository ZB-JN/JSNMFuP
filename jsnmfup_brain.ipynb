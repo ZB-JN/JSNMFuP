{
 "cells": [
  {
   "cell_type": "code",
   "execution_count": null,
   "metadata": {
    "is_executing": true
   },
   "outputs": [],
   "source": [
    "%load_ext memory_profiler\n",
    "from model import JSNMFuP\n",
    "import scvi\n",
    "import scanpy as sc\n",
    "import numpy as np\n",
    "import anndata\n",
    "import scipy.io\n",
    "import torch\n",
    "import pandas as pd\n",
    "from utils import *\n",
    "\n",
    "sc.settings.verbosity = 3\n",
    "sc.settings.set_figure_params(dpi=100)\n",
    "sc.settings.set_figure_params(dpi_save=300)"
   ]
  },
  {
   "cell_type": "code",
   "execution_count": null,
   "outputs": [],
   "source": [
    "from scipy import sparse\n",
    "import scanpy as sc\n",
    "X1 = sc.read('F:/JSNMFuP/Data/brain/h3k4me3_5k_10k_rna.h5ad')\n",
    "X2 = sc.read('F:/JSNMFuP/Data/brain/h3k4me3_5k_10k_atac.h5ad')\n",
    "R = sparse.load_npz('F:/JSNMFuP/Data/brain/R.npz')\n",
    "\n",
    "rna = anndata.AnnData(X1.X,dtype = np.float64)\n",
    "atac = anndata.AnnData(X2.X,dtype = np.float64)\n",
    "split = X1.obs_names.str.split(r\"[-]\")\n",
    "X1.obs_names=split.map(lambda x: x[0])\n",
    "rna.obs['celltype'] =  X1.obs['celltype'] \n",
    "# unique_labels = list(set(rna.obs['celltype'].T))\n",
    "label=X1.obs['celltype'] \n",
    "\n",
    "genes = np.array(X1.var_names)\n",
    "peaks = np.array(X2.var_names)"
   ],
   "metadata": {
    "collapsed": false,
    "pycharm": {
     "name": "#%%\n"
    }
   }
  },
  {
   "cell_type": "code",
   "execution_count": null,
   "metadata": {
    "is_executing": true
   },
   "outputs": [],
   "source": [
    "test_model = JSNMFuP(rna,atac,R,k=20)\n",
    "%memit test_model.run()"
   ]
  },
  {
   "cell_type": "code",
   "execution_count": null,
   "metadata": {
    "is_executing": true
   },
   "outputs": [],
   "source": [
    "# use S  to do clustering with louvain\n",
    "clu = test_model.cluster(step = 0.001 ,start = 2.75)"
   ]
  },
  {
   "cell_type": "code",
   "execution_count": null,
   "metadata": {},
   "outputs": [],
   "source": [
    "test_model.v_embedding(clu, min_dist = 0.68, n_neighbors=12)\n",
    "test_model.v_embedding(label,min_dist = 0.68, n_neighbors=12)"
   ]
  }
 ],
 "metadata": {
  "interpreter": {
   "hash": "2bab4214b67e5dea633af4058f6e455d2aa189cf60dccb0af0c7ed1d17077f76"
  },
  "kernelspec": {
   "display_name": "Python 3.9.5 64-bit ('vae': conda)",
   "name": "python3"
  },
  "language_info": {
   "codemirror_mode": {
    "name": "ipython",
    "version": 3
   },
   "file_extension": ".py",
   "mimetype": "text/x-python",
   "name": "python",
   "nbconvert_exporter": "python",
   "pygments_lexer": "ipython3",
   "version": "3.9.5"
  },
  "orig_nbformat": 4
 },
 "nbformat": 4,
 "nbformat_minor": 2
}
