{
 "cells": [
  {
   "cell_type": "code",
   "execution_count": null,
   "metadata": {
    "is_executing": true
   },
   "outputs": [],
   "source": [
    "from model import JSNMFuP_3mod\n",
    "import scvi\n",
    "import scanpy as sc\n",
    "import numpy as np\n",
    "import anndata\n",
    "import scipy.io\n",
    "import torch\n",
    "from scipy import sparse\n",
    "import scanpy as sc\n",
    "import pandas as pd\n",
    "\n",
    "sc.settings.verbosity = 3\n",
    "sc.settings.set_figure_params(dpi=100)\n",
    "sc.settings.set_figure_params(dpi_save=300)"
   ]
  },
  {
   "cell_type": "code",
   "execution_count": null,
   "outputs": [],
   "source": [
    "X1 = sc.read('E:/GSE65364_scTrio/ALL/rna.h5ad')\n",
    "X2 = sc.read('E:/GSE65364_scTrio/ALL/cnv.h5ad')\n",
    "X3 = sc.read('E:/GSE65364_scTrio/ALL/met.h5ad')\n",
    "R12 = sparse.load_npz('E:/GSE65364_scTrio/ALL/R1.npz')\n",
    "R13 = sparse.load_npz('E:/GSE65364_scTrio/ALL/R2.npz')\n",
    "R23 = sparse.load_npz('E:/GSE65364_scTrio/ALL/R3.npz')\n",
    "\n",
    "rna = anndata.AnnData(X1.X,dtype = np.float64)\n",
    "acc = anndata.AnnData(X2.X,dtype = np.float64)\n",
    "met = anndata.AnnData(X3.X,dtype = np.float64)\n",
    "label=np.array(rna.obs['celltype']).reshape(-1)\n",
    "\n",
    "genes = np.array(X1.var_names)\n",
    "peaks = np.array(X2.var_names)\n",
    "locs = np.array(X3.var_names)"
   ],
   "metadata": {
    "collapsed": false,
    "pycharm": {
     "name": "#%%\n"
    }
   }
  },
  {
   "cell_type": "code",
   "execution_count": null,
   "outputs": [],
   "source": [
    "test_model = mJSNMF_3mod(rna,acc,met,label,R12,R13,R23,num_c=3)\n",
    "test_model.run()"
   ],
   "metadata": {
    "collapsed": false,
    "pycharm": {
     "name": "#%%\n"
    },
    "is_executing": true
   }
  },
  {
   "cell_type": "code",
   "execution_count": null,
   "metadata": {},
   "outputs": [],
   "source": [
    "# use S  to do clustering with louvain\n",
    "clu = test_model.cluster(step = 0.001 ,start = 1)"
   ]
  },
  {
   "cell_type": "code",
   "execution_count": null,
   "outputs": [],
   "source": [
    "test_model.v_embedding(clu, min_dist = 0.68, n_neighbors=12)\n",
    "test_model.v_embedding(label,min_dist = 0.68, n_neighbors=12)"
   ],
   "metadata": {
    "collapsed": false
   }
  }
 ],
 "metadata": {
  "interpreter": {
   "hash": "2bab4214b67e5dea633af4058f6e455d2aa189cf60dccb0af0c7ed1d17077f76"
  },
  "kernelspec": {
   "display_name": "Python 3.9.5 64-bit ('vae': conda)",
   "name": "python3"
  },
  "language_info": {
   "codemirror_mode": {
    "name": "ipython",
    "version": 3
   },
   "file_extension": ".py",
   "mimetype": "text/x-python",
   "name": "python",
   "nbconvert_exporter": "python",
   "pygments_lexer": "ipython3",
   "version": "3.9.5"
  },
  "orig_nbformat": 4
 },
 "nbformat": 4,
 "nbformat_minor": 2
}
